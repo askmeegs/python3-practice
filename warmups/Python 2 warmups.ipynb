{
 "cells": [
  {
   "cell_type": "markdown",
   "metadata": {},
   "source": [
    "### check if duplicates in a string"
   ]
  },
  {
   "cell_type": "code",
   "execution_count": 1,
   "metadata": {
    "collapsed": true
   },
   "outputs": [],
   "source": [
    "from string import ascii_lowercase"
   ]
  },
  {
   "cell_type": "code",
   "execution_count": 21,
   "metadata": {
    "collapsed": true
   },
   "outputs": [],
   "source": [
    "def printDuplicates(s): \n",
    "    A = {}\n",
    "    for c in ascii_lowercase:\n",
    "        A[c] = 0   \n",
    "    for c in s:\n",
    "        A[c] = A[c] + 1 \n",
    "    print A \n",
    "    for a in A:\n",
    "        if A[a] > 1: \n",
    "            for i in range(A[a]):\n",
    "                print a \n",
    "           "
   ]
  },
  {
   "cell_type": "code",
   "execution_count": 23,
   "metadata": {},
   "outputs": [
    {
     "name": "stdout",
     "output_type": "stream",
     "text": [
      "{'a': 2, 'c': 1, 'b': 0, 'e': 1, 'd': 0, 'g': 0, 'f': 0, 'i': 0, 'h': 1, 'k': 0, 'j': 0, 'm': 1, 'l': 0, 'o': 0, 'n': 0, 'q': 0, 'p': 0, 's': 4, 'r': 0, 'u': 1, 't': 2, 'w': 0, 'v': 0, 'y': 0, 'x': 0, 'z': 0}\n",
      "a\n",
      "a\n",
      "s\n",
      "s\n",
      "s\n",
      "s\n",
      "t\n",
      "t\n"
     ]
    }
   ],
   "source": [
    "printDuplicates(\"massachusetts\")"
   ]
  },
  {
   "cell_type": "markdown",
   "metadata": {
    "collapsed": true
   },
   "source": [
    "### end other  http://codingbat.com/prob/p174314"
   ]
  },
  {
   "cell_type": "code",
   "execution_count": 4,
   "metadata": {
    "collapsed": true
   },
   "outputs": [],
   "source": [
    "def end_other(a, b):\n",
    "    return a[:-(len(b)-1)].lower() == b.lower() or a[-(len(a)-1)].lower() == a.lower()"
   ]
  },
  {
   "cell_type": "code",
   "execution_count": null,
   "metadata": {
    "collapsed": true
   },
   "outputs": [],
   "source": []
  }
 ],
 "metadata": {
  "kernelspec": {
   "display_name": "Python 2",
   "language": "python",
   "name": "python2"
  },
  "language_info": {
   "codemirror_mode": {
    "name": "ipython",
    "version": 2
   },
   "file_extension": ".py",
   "mimetype": "text/x-python",
   "name": "python",
   "nbconvert_exporter": "python",
   "pygments_lexer": "ipython2",
   "version": "2.7.13"
  }
 },
 "nbformat": 4,
 "nbformat_minor": 2
}
